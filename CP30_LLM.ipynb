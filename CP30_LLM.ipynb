{
  "nbformat": 4,
  "nbformat_minor": 0,
  "metadata": {
    "colab": {
      "provenance": [],
      "authorship_tag": "ABX9TyP9TPmra8kI936qIeEIHkn0",
      "include_colab_link": true
    },
    "kernelspec": {
      "name": "python3",
      "display_name": "Python 3"
    },
    "language_info": {
      "name": "python"
    }
  },
  "cells": [
    {
      "cell_type": "markdown",
      "metadata": {
        "id": "view-in-github",
        "colab_type": "text"
      },
      "source": [
        "<a href=\"https://colab.research.google.com/github/nifemi-alonge/cp30_llm_app/blob/main/CP30_LLM.ipynb\" target=\"_parent\"><img src=\"https://colab.research.google.com/assets/colab-badge.svg\" alt=\"Open In Colab\"/></a>"
      ]
    },
    {
      "cell_type": "markdown",
      "source": [
        "# Clean Power 2030 LLM"
      ],
      "metadata": {
        "id": "1fsinz6JyDlB"
      }
    },
    {
      "cell_type": "code",
      "execution_count": null,
      "metadata": {
        "id": "WoblTk0YxaFR"
      },
      "outputs": [],
      "source": []
    },
    {
      "cell_type": "markdown",
      "source": [
        "Source:\n",
        "- https://towardsdatascience.com/all-you-need-to-know-to-build-your-first-llm-app-eb982c78ffac/#4cff\n",
        "- https://www.gov.uk/government/publications/clean-power-2030-action-plan"
      ],
      "metadata": {
        "id": "DtX2ZC8myAsr"
      }
    }
  ]
}